{
 "cells": [
  {
   "cell_type": "code",
   "execution_count": null,
   "id": "8a4c5bf0",
   "metadata": {},
   "outputs": [],
   "source": [
    "Hola = 1"
   ]
  }
 ],
 "metadata": {
  "language_info": {
   "name": "python"
  }
 },
 "nbformat": 4,
 "nbformat_minor": 5
}
