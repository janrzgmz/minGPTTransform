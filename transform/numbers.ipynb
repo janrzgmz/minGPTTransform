{
 "cells": [
  {
   "cell_type": "markdown",
   "id": "d0dcbcb7",
   "metadata": {},
   "source": [
    "Secuencias ordenadas con diferentes tipos de modelos."
   ]
  },
  {
   "cell_type": "code",
   "execution_count": 9,
   "id": "f31dfb5d",
   "metadata": {},
   "outputs": [],
   "source": [
    "import torch\n",
    "from torch.utils.data import Dataset\n",
    "from torch.utils.data.dataloader import DataLoader\n",
    "from mingpt.utils import set_seed\n",
    "set_seed(3407)"
   ]
  },
  {
   "cell_type": "code",
   "execution_count": 10,
   "id": "db026c3f",
   "metadata": {},
   "outputs": [],
   "source": [
    "import pickle\n",
    "\n",
    "class SortDataset(Dataset):\n",
    "    \"\"\"\n",
    "    Dataset for the Sort problem. E.g. for problem length 6:\n",
    "    Input: 0 0 2 1 0 1 -> Output: 0 0 0 1 1 2\n",
    "    Which will feed into the transformer concatenated as:\n",
    "    input:  0 0 2 1 0 1 0 0 0 1 1\n",
    "    output: I I I I I 0 0 0 1 1 2\n",
    "    where I is \"ignore\", as the transformer is reading the input sequence\n",
    "    \"\"\"\n",
    "\n",
    "    def __init__(self, split, length=6, num_digits=3):\n",
    "        assert split in {'train', 'test'}\n",
    "        self.split = split\n",
    "        self.length = length\n",
    "        self.num_digits = num_digits\n",
    "\n",
    "    def __len__(self):\n",
    "        return 10000 # ...\n",
    "\n",
    "    def get_vocab_size(self):\n",
    "        return self.num_digits\n",
    "\n",
    "    def get_block_size(self):\n",
    "        # the length of the sequence that will feed into transformer,\n",
    "        # containing concatenated input and the output, but -1 because\n",
    "        # the transformer starts making predictions at the last input element\n",
    "        return self.length * 2 - 1\n",
    "\n",
    "    def __getitem__(self, idx):\n",
    "\n",
    "        # use rejection sampling to generate an input example from the desired split\n",
    "        while True:\n",
    "            # generate some random integers\n",
    "            inp = torch.randint(self.num_digits, size=(self.length,), dtype=torch.long)\n",
    "            # half of the time let's try to boost the number of examples that\n",
    "            # have a large number of repeats, as this is what the model seems to struggle\n",
    "            # with later in training, and they are kind of rate\n",
    "            if torch.rand(1).item() < 0.5:\n",
    "                if inp.unique().nelement() > self.length // 2:\n",
    "                    # too many unqiue digits, re-sample\n",
    "                    continue\n",
    "            # figure out if this generated example is train or test based on its hash\n",
    "            h = hash(pickle.dumps(inp.tolist()))\n",
    "            inp_split = 'test' if h % 4 == 0 else 'train' # designate 25% of examples as test\n",
    "            if inp_split == self.split:\n",
    "                break # ok\n",
    "\n",
    "        # solve the task: i.e. sort\n",
    "        sol = torch.sort(inp)[0]\n",
    "\n",
    "        # concatenate the problem specification and the solution\n",
    "        cat = torch.cat((inp, sol), dim=0)\n",
    "\n",
    "        # the inputs to the transformer will be the offset sequence\n",
    "        x = cat[:-1].clone()\n",
    "        y = cat[1:].clone()\n",
    "        # we only want to predict at output locations, mask out the loss at the input locations\n",
    "        y[:self.length-1] = -1\n",
    "        return x, y"
   ]
  },
  {
   "cell_type": "code",
   "execution_count": 11,
   "id": "e567ad78",
   "metadata": {},
   "outputs": [
    {
     "name": "stdout",
     "output_type": "stream",
     "text": [
      "1 -1\n",
      "0 -1\n",
      "1 -1\n",
      "0 -1\n",
      "0 -1\n",
      "0 0\n",
      "0 0\n",
      "0 0\n",
      "0 0\n",
      "0 1\n",
      "1 1\n"
     ]
    }
   ],
   "source": [
    "# print an example instance of the dataset\n",
    "train_dataset = SortDataset('train')\n",
    "test_dataset = SortDataset('test')\n",
    "x, y = train_dataset[0]\n",
    "for a, b in zip(x,y):\n",
    "    print(int(a),int(b))"
   ]
  },
  {
   "cell_type": "markdown",
   "id": "a67b4b8e",
   "metadata": {},
   "source": [
    "gpt-nano: n_layer=3, n_head=3, n_embd=48"
   ]
  },
  {
   "cell_type": "code",
   "execution_count": 12,
   "id": "402ea6c9",
   "metadata": {},
   "outputs": [
    {
     "name": "stdout",
     "output_type": "stream",
     "text": [
      "number of parameters: 0.09M\n"
     ]
    }
   ],
   "source": [
    "# create a GPT instance\n",
    "from transform.model_tce import GPT\n",
    "\n",
    "model_config = GPT.get_default_config()\n",
    "model_config.model_type = 'gpt-nano'\n",
    "model_config.vocab_size = train_dataset.get_vocab_size()\n",
    "model_config.block_size = train_dataset.get_block_size()\n",
    "model_nano = GPT(model_config)"
   ]
  },
  {
   "cell_type": "code",
   "execution_count": 13,
   "id": "bc77a134",
   "metadata": {},
   "outputs": [
    {
     "name": "stdout",
     "output_type": "stream",
     "text": [
      "running on device cuda\n"
     ]
    }
   ],
   "source": [
    "# create a Trainer object\n",
    "from mingpt.trainer import Trainer\n",
    "\n",
    "train_config = Trainer.get_default_config()\n",
    "train_config.learning_rate = 3e-4 # the model we're using is so small that we can go a bit faster\n",
    "train_config.max_iters = 2000\n",
    "train_config.num_workers = 2\n",
    "trainer_nano = Trainer(train_config, model_nano, train_dataset)"
   ]
  },
  {
   "cell_type": "code",
   "execution_count": 14,
   "id": "6bc7fefe",
   "metadata": {},
   "outputs": [
    {
     "name": "stdout",
     "output_type": "stream",
     "text": [
      "iter_dt 0.00ms; iter 0: train loss 1.10802\n",
      "iter_dt 3.39ms; iter 100: train loss 0.38102\n",
      "iter_dt 3.39ms; iter 200: train loss 0.15310\n",
      "iter_dt 3.85ms; iter 300: train loss 0.06243\n",
      "iter_dt 3.43ms; iter 400: train loss 0.03350\n",
      "iter_dt 3.41ms; iter 500: train loss 0.02456\n",
      "iter_dt 3.54ms; iter 600: train loss 0.03938\n",
      "iter_dt 3.47ms; iter 700: train loss 0.01617\n",
      "iter_dt 3.31ms; iter 800: train loss 0.05884\n",
      "iter_dt 3.42ms; iter 900: train loss 0.02484\n",
      "iter_dt 3.35ms; iter 1000: train loss 0.02841\n",
      "iter_dt 3.27ms; iter 1100: train loss 0.05692\n",
      "iter_dt 3.33ms; iter 1200: train loss 0.01039\n",
      "iter_dt 3.23ms; iter 1300: train loss 0.05498\n",
      "iter_dt 6.43ms; iter 1400: train loss 0.00485\n",
      "iter_dt 3.34ms; iter 1500: train loss 0.02731\n",
      "iter_dt 6.39ms; iter 1600: train loss 0.01011\n",
      "iter_dt 6.07ms; iter 1700: train loss 0.00976\n",
      "iter_dt 7.11ms; iter 1800: train loss 0.01035\n",
      "iter_dt 3.36ms; iter 1900: train loss 0.03309\n"
     ]
    }
   ],
   "source": [
    "def batch_end_callback(trainer):\n",
    "    if trainer.iter_num % 100 == 0:\n",
    "        print(f\"iter_dt {trainer.iter_dt * 1000:.2f}ms; iter {trainer.iter_num}: train loss {trainer.loss.item():.5f}\")\n",
    "trainer_nano.set_callback('on_batch_end', batch_end_callback)\n",
    "\n",
    "trainer_nano.run()"
   ]
  },
  {
   "cell_type": "code",
   "execution_count": 15,
   "id": "c383a603",
   "metadata": {},
   "outputs": [],
   "source": [
    "# now let's perform some evaluation\n",
    "model_nano.eval();"
   ]
  },
  {
   "cell_type": "code",
   "execution_count": 16,
   "id": "71407a8a",
   "metadata": {},
   "outputs": [
    {
     "name": "stdout",
     "output_type": "stream",
     "text": [
      "train final score: 5000/5000 = 100.00% correct\n",
      "test final score: 5000/5000 = 100.00% correct\n"
     ]
    }
   ],
   "source": [
    "def eval_split(trainer, split, max_batches):\n",
    "    dataset = {'train':train_dataset, 'test':test_dataset}[split]\n",
    "    n = train_dataset.length # naugy direct access shrug\n",
    "    results = []\n",
    "    mistakes_printed_already = 0\n",
    "    loader = DataLoader(dataset, batch_size=100, num_workers=0, drop_last=False)\n",
    "    for b, (x, y) in enumerate(loader):\n",
    "        x = x.to(trainer.device)\n",
    "        y = y.to(trainer.device)\n",
    "        # isolate the input pattern alone\n",
    "        inp = x[:, :n]\n",
    "        sol = y[:, -n:]\n",
    "        # let the model sample the rest of the sequence\n",
    "        cat = model_nano.generate(inp, n, do_sample=False) # using greedy argmax, not sampling\n",
    "        sol_candidate = cat[:, n:] # isolate the filled in sequence\n",
    "        # compare the predicted sequence to the true sequence\n",
    "        correct = (sol == sol_candidate).all(1).cpu() # Software 1.0 vs. Software 2.0 fight RIGHT on this line haha\n",
    "        for i in range(x.size(0)):\n",
    "            results.append(int(correct[i]))\n",
    "            if not correct[i] and mistakes_printed_already < 3: # only print up to 5 mistakes to get a sense\n",
    "                mistakes_printed_already += 1\n",
    "                print(\"GPT claims that %s sorted is %s but gt is %s\" % (inp[i].tolist(), sol_candidate[i].tolist(), sol[i].tolist()))\n",
    "        if max_batches is not None and b+1 >= max_batches:\n",
    "            break\n",
    "    rt = torch.tensor(results, dtype=torch.float)\n",
    "    print(\"%s final score: %d/%d = %.2f%% correct\" % (split, rt.sum(), len(results), 100*rt.mean()))\n",
    "    return rt.sum()\n",
    "\n",
    "# run a lot of examples from both train and test through the model and verify the output correctness\n",
    "with torch.no_grad():\n",
    "    train_score = eval_split(trainer_nano, 'train', max_batches=50)\n",
    "    test_score  = eval_split(trainer_nano, 'test',  max_batches=50)"
   ]
  },
  {
   "cell_type": "markdown",
   "id": "fa84e912",
   "metadata": {},
   "source": [
    "gpt-micro: n_layer=4, n_head=4, n_embd=128"
   ]
  },
  {
   "cell_type": "code",
   "execution_count": 17,
   "id": "a6e8faa9",
   "metadata": {},
   "outputs": [
    {
     "name": "stdout",
     "output_type": "stream",
     "text": [
      "number of parameters: 0.80M\n"
     ]
    }
   ],
   "source": [
    "# create a GPT instance\n",
    "from transform.model_tce import GPT\n",
    "\n",
    "model_config = GPT.get_default_config()\n",
    "model_config.model_type = 'gpt-micro'\n",
    "model_config.vocab_size = train_dataset.get_vocab_size()\n",
    "model_config.block_size = train_dataset.get_block_size()\n",
    "model_micro = GPT(model_config)"
   ]
  },
  {
   "cell_type": "code",
   "execution_count": 18,
   "id": "4444a9ee",
   "metadata": {},
   "outputs": [
    {
     "name": "stdout",
     "output_type": "stream",
     "text": [
      "running on device cuda\n"
     ]
    }
   ],
   "source": [
    "# create a Trainer object\n",
    "from mingpt.trainer import Trainer\n",
    "\n",
    "train_config = Trainer.get_default_config()\n",
    "train_config.learning_rate = 3e-4 # the model we're using is so small that we can go a bit faster\n",
    "train_config.max_iters = 2000\n",
    "train_config.num_workers = 2\n",
    "trainer_micro = Trainer(train_config, model_micro, train_dataset)"
   ]
  },
  {
   "cell_type": "code",
   "execution_count": 19,
   "id": "47c78ff3",
   "metadata": {},
   "outputs": [
    {
     "name": "stdout",
     "output_type": "stream",
     "text": [
      "iter_dt 0.00ms; iter 0: train loss 1.14815\n",
      "iter_dt 4.14ms; iter 100: train loss 0.54070\n",
      "iter_dt 4.20ms; iter 200: train loss 0.31869\n",
      "iter_dt 4.38ms; iter 300: train loss 0.10073\n",
      "iter_dt 4.13ms; iter 400: train loss 0.07262\n",
      "iter_dt 4.16ms; iter 500: train loss 0.06950\n",
      "iter_dt 4.13ms; iter 600: train loss 0.02049\n",
      "iter_dt 4.06ms; iter 700: train loss 0.08846\n",
      "iter_dt 8.12ms; iter 800: train loss 0.02523\n",
      "iter_dt 4.17ms; iter 900: train loss 0.05560\n",
      "iter_dt 4.34ms; iter 1000: train loss 0.02421\n",
      "iter_dt 4.25ms; iter 1100: train loss 0.00775\n",
      "iter_dt 4.26ms; iter 1200: train loss 0.03190\n",
      "iter_dt 4.17ms; iter 1300: train loss 0.03272\n",
      "iter_dt 4.18ms; iter 1400: train loss 0.00704\n",
      "iter_dt 4.09ms; iter 1500: train loss 0.01057\n",
      "iter_dt 4.03ms; iter 1600: train loss 0.01725\n",
      "iter_dt 4.05ms; iter 1700: train loss 0.00758\n",
      "iter_dt 4.32ms; iter 1800: train loss 0.02172\n",
      "iter_dt 4.33ms; iter 1900: train loss 0.00960\n"
     ]
    }
   ],
   "source": [
    "def batch_end_callback(trainer):\n",
    "    if trainer.iter_num % 100 == 0:\n",
    "        print(f\"iter_dt {trainer.iter_dt * 1000:.2f}ms; iter {trainer.iter_num}: train loss {trainer.loss.item():.5f}\")\n",
    "trainer_micro.set_callback('on_batch_end', batch_end_callback)\n",
    "\n",
    "trainer_micro.run()"
   ]
  },
  {
   "cell_type": "code",
   "execution_count": 20,
   "id": "9a7f7f9d",
   "metadata": {},
   "outputs": [],
   "source": [
    "# now let's perform some evaluation\n",
    "model_micro.eval();"
   ]
  },
  {
   "cell_type": "code",
   "execution_count": 21,
   "id": "0d7fa30c",
   "metadata": {},
   "outputs": [
    {
     "name": "stdout",
     "output_type": "stream",
     "text": [
      "train final score: 5000/5000 = 100.00% correct\n",
      "test final score: 5000/5000 = 100.00% correct\n"
     ]
    }
   ],
   "source": [
    "def eval_split(trainer, split, max_batches):\n",
    "    dataset = {'train':train_dataset, 'test':test_dataset}[split]\n",
    "    n = train_dataset.length # naugy direct access shrug\n",
    "    results = []\n",
    "    mistakes_printed_already = 0\n",
    "    loader = DataLoader(dataset, batch_size=100, num_workers=0, drop_last=False)\n",
    "    for b, (x, y) in enumerate(loader):\n",
    "        x = x.to(trainer.device)\n",
    "        y = y.to(trainer.device)\n",
    "        # isolate the input pattern alone\n",
    "        inp = x[:, :n]\n",
    "        sol = y[:, -n:]\n",
    "        # let the model sample the rest of the sequence\n",
    "        cat = model_micro.generate(inp, n, do_sample=False) # using greedy argmax, not sampling\n",
    "        sol_candidate = cat[:, n:] # isolate the filled in sequence\n",
    "        # compare the predicted sequence to the true sequence\n",
    "        correct = (sol == sol_candidate).all(1).cpu() # Software 1.0 vs. Software 2.0 fight RIGHT on this line haha\n",
    "        for i in range(x.size(0)):\n",
    "            results.append(int(correct[i]))\n",
    "            if not correct[i] and mistakes_printed_already < 3: # only print up to 5 mistakes to get a sense\n",
    "                mistakes_printed_already += 1\n",
    "                print(\"GPT claims that %s sorted is %s but gt is %s\" % (inp[i].tolist(), sol_candidate[i].tolist(), sol[i].tolist()))\n",
    "        if max_batches is not None and b+1 >= max_batches:\n",
    "            break\n",
    "    rt = torch.tensor(results, dtype=torch.float)\n",
    "    print(\"%s final score: %d/%d = %.2f%% correct\" % (split, rt.sum(), len(results), 100*rt.mean()))\n",
    "    return rt.sum()\n",
    "\n",
    "# run a lot of examples from both train and test through the model and verify the output correctness\n",
    "with torch.no_grad():\n",
    "    train_score = eval_split(trainer_micro, 'train', max_batches=50)\n",
    "    test_score  = eval_split(trainer_micro, 'test',  max_batches=50)"
   ]
  },
  {
   "cell_type": "markdown",
   "id": "f7e9a3aa",
   "metadata": {},
   "source": [
    "gpt-mini: n_layer=6, n_head=6, n_embd=192"
   ]
  },
  {
   "cell_type": "code",
   "execution_count": 22,
   "id": "6433274b",
   "metadata": {},
   "outputs": [
    {
     "name": "stdout",
     "output_type": "stream",
     "text": [
      "number of parameters: 2.67M\n"
     ]
    }
   ],
   "source": [
    "# create a GPT instance\n",
    "from transform.model_tce import GPT\n",
    "\n",
    "model_config = GPT.get_default_config()\n",
    "model_config.model_type = 'gpt-mini'\n",
    "model_config.vocab_size = train_dataset.get_vocab_size()\n",
    "model_config.block_size = train_dataset.get_block_size()\n",
    "model_mini = GPT(model_config)"
   ]
  },
  {
   "cell_type": "code",
   "execution_count": 23,
   "id": "04131bc7",
   "metadata": {},
   "outputs": [
    {
     "name": "stdout",
     "output_type": "stream",
     "text": [
      "running on device cuda\n"
     ]
    }
   ],
   "source": [
    "# create a Trainer object\n",
    "from mingpt.trainer import Trainer\n",
    "\n",
    "train_config = Trainer.get_default_config()\n",
    "train_config.learning_rate = 3e-4 # the model we're using is so small that we can go a bit faster\n",
    "train_config.max_iters = 2000\n",
    "train_config.num_workers = 2\n",
    "trainer_mini = Trainer(train_config, model_mini, train_dataset)"
   ]
  },
  {
   "cell_type": "code",
   "execution_count": 24,
   "id": "049196f7",
   "metadata": {},
   "outputs": [
    {
     "name": "stdout",
     "output_type": "stream",
     "text": [
      "iter_dt 0.00ms; iter 0: train loss 1.10289\n",
      "iter_dt 5.87ms; iter 100: train loss 1.09844\n",
      "iter_dt 5.86ms; iter 200: train loss 1.04299\n",
      "iter_dt 5.72ms; iter 300: train loss 0.57473\n",
      "iter_dt 5.71ms; iter 400: train loss 0.37487\n",
      "iter_dt 5.78ms; iter 500: train loss 0.17507\n",
      "iter_dt 5.76ms; iter 600: train loss 0.11273\n",
      "iter_dt 5.86ms; iter 700: train loss 0.11443\n",
      "iter_dt 5.77ms; iter 800: train loss 0.05292\n",
      "iter_dt 5.72ms; iter 900: train loss 0.07133\n",
      "iter_dt 5.79ms; iter 1000: train loss 0.02398\n",
      "iter_dt 5.75ms; iter 1100: train loss 0.04186\n",
      "iter_dt 5.78ms; iter 1200: train loss 0.01225\n",
      "iter_dt 5.78ms; iter 1300: train loss 0.00619\n",
      "iter_dt 5.85ms; iter 1400: train loss 0.08079\n",
      "iter_dt 5.79ms; iter 1500: train loss 0.01665\n",
      "iter_dt 5.86ms; iter 1600: train loss 0.00657\n",
      "iter_dt 5.89ms; iter 1700: train loss 0.05709\n",
      "iter_dt 6.09ms; iter 1800: train loss 0.00692\n",
      "iter_dt 5.77ms; iter 1900: train loss 0.00625\n"
     ]
    }
   ],
   "source": [
    "def batch_end_callback(trainer):\n",
    "    if trainer.iter_num % 100 == 0:\n",
    "        print(f\"iter_dt {trainer.iter_dt * 1000:.2f}ms; iter {trainer.iter_num}: train loss {trainer.loss.item():.5f}\")\n",
    "trainer_mini.set_callback('on_batch_end', batch_end_callback)\n",
    "\n",
    "trainer_mini.run()"
   ]
  },
  {
   "cell_type": "code",
   "execution_count": 25,
   "id": "5a094fca",
   "metadata": {},
   "outputs": [],
   "source": [
    "# now let's perform some evaluation\n",
    "model_mini.eval();"
   ]
  },
  {
   "cell_type": "code",
   "execution_count": 26,
   "id": "e761feab",
   "metadata": {},
   "outputs": [
    {
     "name": "stdout",
     "output_type": "stream",
     "text": [
      "train final score: 5000/5000 = 100.00% correct\n",
      "test final score: 5000/5000 = 100.00% correct\n"
     ]
    }
   ],
   "source": [
    "def eval_split(trainer, split, max_batches):\n",
    "    dataset = {'train':train_dataset, 'test':test_dataset}[split]\n",
    "    n = train_dataset.length # naugy direct access shrug\n",
    "    results = []\n",
    "    mistakes_printed_already = 0\n",
    "    loader = DataLoader(dataset, batch_size=100, num_workers=0, drop_last=False)\n",
    "    for b, (x, y) in enumerate(loader):\n",
    "        x = x.to(trainer.device)\n",
    "        y = y.to(trainer.device)\n",
    "        # isolate the input pattern alone\n",
    "        inp = x[:, :n]\n",
    "        sol = y[:, -n:]\n",
    "        # let the model sample the rest of the sequence\n",
    "        cat = model_mini.generate(inp, n, do_sample=False) # using greedy argmax, not sampling\n",
    "        sol_candidate = cat[:, n:] # isolate the filled in sequence\n",
    "        # compare the predicted sequence to the true sequence\n",
    "        correct = (sol == sol_candidate).all(1).cpu() # Software 1.0 vs. Software 2.0 fight RIGHT on this line haha\n",
    "        for i in range(x.size(0)):\n",
    "            results.append(int(correct[i]))\n",
    "            if not correct[i] and mistakes_printed_already < 3: # only print up to 5 mistakes to get a sense\n",
    "                mistakes_printed_already += 1\n",
    "                print(\"GPT claims that %s sorted is %s but gt is %s\" % (inp[i].tolist(), sol_candidate[i].tolist(), sol[i].tolist()))\n",
    "        if max_batches is not None and b+1 >= max_batches:\n",
    "            break\n",
    "    rt = torch.tensor(results, dtype=torch.float)\n",
    "    print(\"%s final score: %d/%d = %.2f%% correct\" % (split, rt.sum(), len(results), 100*rt.mean()))\n",
    "    return rt.sum()\n",
    "\n",
    "# run a lot of examples from both train and test through the model and verify the output correctness\n",
    "with torch.no_grad():\n",
    "    train_score = eval_split(trainer_mini, 'train', max_batches=50)\n",
    "    test_score  = eval_split(trainer_mini, 'test',  max_batches=50)"
   ]
  },
  {
   "cell_type": "markdown",
   "id": "1e7d06c2",
   "metadata": {},
   "source": [
    "gopher-44m: n_layer=8, n_head=16, n_embd=512"
   ]
  },
  {
   "cell_type": "code",
   "execution_count": 45,
   "id": "b5d90fa1",
   "metadata": {},
   "outputs": [
    {
     "name": "stdout",
     "output_type": "stream",
     "text": [
      "number of parameters: 25.23M\n"
     ]
    }
   ],
   "source": [
    "# create a GPT instance\n",
    "from transform.model_tce import GPT\n",
    "\n",
    "model_config = GPT.get_default_config()\n",
    "model_config.model_type = 'gopher-44m'\n",
    "model_config.vocab_size = train_dataset.get_vocab_size()\n",
    "model_config.block_size = train_dataset.get_block_size()\n",
    "model_gopher = GPT(model_config)"
   ]
  },
  {
   "cell_type": "code",
   "execution_count": 46,
   "id": "7552f867",
   "metadata": {},
   "outputs": [
    {
     "name": "stdout",
     "output_type": "stream",
     "text": [
      "running on device cuda\n"
     ]
    }
   ],
   "source": [
    "# create a Trainer object\n",
    "from mingpt.trainer import Trainer\n",
    "\n",
    "train_config = Trainer.get_default_config()\n",
    "train_config.learning_rate = 5e-4 # the model we're using is so small that we can go a bit faster\n",
    "train_config.max_iters = 2000\n",
    "train_config.num_workers = 2\n",
    "trainer_gopher = Trainer(train_config, model_gopher, train_dataset)"
   ]
  },
  {
   "cell_type": "code",
   "execution_count": 47,
   "id": "538b3b3e",
   "metadata": {},
   "outputs": [
    {
     "name": "stdout",
     "output_type": "stream",
     "text": [
      "iter_dt 0.00ms; iter 0: train loss 1.10300\n",
      "iter_dt 10.14ms; iter 100: train loss 1.10951\n",
      "iter_dt 10.06ms; iter 200: train loss 1.09702\n",
      "iter_dt 10.06ms; iter 300: train loss 1.10143\n",
      "iter_dt 10.18ms; iter 400: train loss 1.10241\n",
      "iter_dt 10.15ms; iter 500: train loss 1.09867\n",
      "iter_dt 10.15ms; iter 600: train loss 1.09124\n",
      "iter_dt 10.03ms; iter 700: train loss 1.04532\n",
      "iter_dt 10.13ms; iter 800: train loss 0.94652\n",
      "iter_dt 10.17ms; iter 900: train loss 0.73639\n",
      "iter_dt 10.00ms; iter 1000: train loss 0.57808\n",
      "iter_dt 10.03ms; iter 1100: train loss 0.34231\n",
      "iter_dt 10.14ms; iter 1200: train loss 0.20982\n",
      "iter_dt 10.11ms; iter 1300: train loss 0.20980\n",
      "iter_dt 10.28ms; iter 1400: train loss 0.12443\n",
      "iter_dt 10.35ms; iter 1500: train loss 0.18815\n",
      "iter_dt 10.15ms; iter 1600: train loss 0.13721\n",
      "iter_dt 10.22ms; iter 1700: train loss 0.10104\n",
      "iter_dt 10.22ms; iter 1800: train loss 0.18866\n",
      "iter_dt 10.12ms; iter 1900: train loss 0.24501\n"
     ]
    }
   ],
   "source": [
    "def batch_end_callback(trainer):\n",
    "    if trainer.iter_num % 100 == 0:\n",
    "        print(f\"iter_dt {trainer.iter_dt * 1000:.2f}ms; iter {trainer.iter_num}: train loss {trainer.loss.item():.5f}\")\n",
    "trainer_gopher.set_callback('on_batch_end', batch_end_callback)\n",
    "\n",
    "trainer_gopher.run()"
   ]
  },
  {
   "cell_type": "code",
   "execution_count": 48,
   "id": "1689b452",
   "metadata": {},
   "outputs": [],
   "source": [
    "# now let's perform some evaluation\n",
    "model_gopher.eval();"
   ]
  },
  {
   "cell_type": "code",
   "execution_count": 49,
   "id": "a6cd93e7",
   "metadata": {},
   "outputs": [
    {
     "name": "stdout",
     "output_type": "stream",
     "text": [
      "train final score: 5000/5000 = 100.00% correct\n",
      "test final score: 5000/5000 = 100.00% correct\n"
     ]
    }
   ],
   "source": [
    "def eval_split(trainer, split, max_batches):\n",
    "    dataset = {'train':train_dataset, 'test':test_dataset}[split]\n",
    "    n = train_dataset.length # naugy direct access shrug\n",
    "    results = []\n",
    "    mistakes_printed_already = 0\n",
    "    loader = DataLoader(dataset, batch_size=100, num_workers=0, drop_last=False)\n",
    "    for b, (x, y) in enumerate(loader):\n",
    "        x = x.to(trainer.device)\n",
    "        y = y.to(trainer.device)\n",
    "        # isolate the input pattern alone\n",
    "        inp = x[:, :n]\n",
    "        sol = y[:, -n:]\n",
    "        # let the model sample the rest of the sequence\n",
    "        cat = model_gopher.generate(inp, n, do_sample=False) # using greedy argmax, not sampling\n",
    "        sol_candidate = cat[:, n:] # isolate the filled in sequence\n",
    "        # compare the predicted sequence to the true sequence\n",
    "        correct = (sol == sol_candidate).all(1).cpu() # Software 1.0 vs. Software 2.0 fight RIGHT on this line haha\n",
    "        for i in range(x.size(0)):\n",
    "            results.append(int(correct[i]))\n",
    "            if not correct[i] and mistakes_printed_already < 3: # only print up to 5 mistakes to get a sense\n",
    "                mistakes_printed_already += 1\n",
    "                print(\"GPT claims that %s sorted is %s but gt is %s\" % (inp[i].tolist(), sol_candidate[i].tolist(), sol[i].tolist()))\n",
    "        if max_batches is not None and b+1 >= max_batches:\n",
    "            break\n",
    "    rt = torch.tensor(results, dtype=torch.float)\n",
    "    print(\"%s final score: %d/%d = %.2f%% correct\" % (split, rt.sum(), len(results), 100*rt.mean()))\n",
    "    return rt.sum()\n",
    "\n",
    "# run a lot of examples from both train and test through the model and verify the output correctness\n",
    "with torch.no_grad():\n",
    "    train_score = eval_split(trainer_gopher, 'train', max_batches=50)\n",
    "    test_score  = eval_split(trainer_gopher, 'test',  max_batches=50)"
   ]
  },
  {
   "cell_type": "markdown",
   "id": "0c7e33c8",
   "metadata": {},
   "source": [
    "GPT-1, openai-gpt: n_layer=12, n_head=12, n_embd=768"
   ]
  },
  {
   "cell_type": "code",
   "execution_count": 64,
   "id": "fc588fe7",
   "metadata": {},
   "outputs": [
    {
     "name": "stdout",
     "output_type": "stream",
     "text": [
      "number of parameters: 85.07M\n"
     ]
    }
   ],
   "source": [
    "# create a GPT instance\n",
    "from transform.model_tce import GPT\n",
    "\n",
    "model_config = GPT.get_default_config()\n",
    "model_config.model_type = 'openai-gpt'\n",
    "model_config.vocab_size = train_dataset.get_vocab_size()\n",
    "model_config.block_size = train_dataset.get_block_size()\n",
    "model_gpt1 = GPT(model_config)"
   ]
  },
  {
   "cell_type": "code",
   "execution_count": 65,
   "id": "a20128c0",
   "metadata": {},
   "outputs": [
    {
     "name": "stdout",
     "output_type": "stream",
     "text": [
      "running on device cuda\n"
     ]
    }
   ],
   "source": [
    "# create a Trainer object\n",
    "from mingpt.trainer import Trainer\n",
    "\n",
    "train_config = Trainer.get_default_config()\n",
    "train_config.learning_rate = 3e-4 # the model we're using is so small that we can go a bit faster\n",
    "train_config.max_iters = 10000\n",
    "train_config.num_workers = 8\n",
    "trainer_gpt1 = Trainer(train_config, model_gpt1, train_dataset)"
   ]
  },
  {
   "cell_type": "code",
   "execution_count": 66,
   "id": "6162aad1",
   "metadata": {},
   "outputs": [
    {
     "name": "stdout",
     "output_type": "stream",
     "text": [
      "iter_dt 0.00ms; iter 0: train loss 1.12391\n",
      "iter_dt 26.66ms; iter 100: train loss 1.09791\n",
      "iter_dt 25.87ms; iter 200: train loss 1.09673\n",
      "iter_dt 25.81ms; iter 300: train loss 1.09701\n",
      "iter_dt 25.87ms; iter 400: train loss 1.10424\n",
      "iter_dt 25.95ms; iter 500: train loss 1.10726\n",
      "iter_dt 26.06ms; iter 600: train loss 1.09843\n",
      "iter_dt 25.95ms; iter 700: train loss 1.10070\n",
      "iter_dt 26.08ms; iter 800: train loss 1.09836\n",
      "iter_dt 28.63ms; iter 900: train loss 1.09896\n",
      "iter_dt 25.93ms; iter 1000: train loss 1.10455\n",
      "iter_dt 26.05ms; iter 1100: train loss 1.09940\n",
      "iter_dt 25.99ms; iter 1200: train loss 1.10078\n",
      "iter_dt 26.09ms; iter 1300: train loss 1.10492\n",
      "iter_dt 26.23ms; iter 1400: train loss 1.10310\n",
      "iter_dt 26.21ms; iter 1500: train loss 1.09734\n",
      "iter_dt 26.47ms; iter 1600: train loss 1.10424\n",
      "iter_dt 25.97ms; iter 1700: train loss 1.09907\n",
      "iter_dt 26.23ms; iter 1800: train loss 1.10394\n",
      "iter_dt 26.16ms; iter 1900: train loss 1.10229\n",
      "iter_dt 25.94ms; iter 2000: train loss 1.09994\n",
      "iter_dt 26.12ms; iter 2100: train loss 1.10608\n",
      "iter_dt 26.06ms; iter 2200: train loss 1.10156\n",
      "iter_dt 26.10ms; iter 2300: train loss 1.09958\n",
      "iter_dt 26.22ms; iter 2400: train loss 1.10145\n",
      "iter_dt 26.31ms; iter 2500: train loss 1.09925\n",
      "iter_dt 26.54ms; iter 2600: train loss 1.09906\n",
      "iter_dt 26.05ms; iter 2700: train loss 1.09777\n",
      "iter_dt 26.30ms; iter 2800: train loss 1.09880\n",
      "iter_dt 25.96ms; iter 2900: train loss 1.09975\n",
      "iter_dt 26.13ms; iter 3000: train loss 1.09814\n",
      "iter_dt 26.39ms; iter 3100: train loss 1.09917\n",
      "iter_dt 26.12ms; iter 3200: train loss 1.09788\n",
      "iter_dt 26.09ms; iter 3300: train loss 1.09895\n",
      "iter_dt 25.97ms; iter 3400: train loss 1.09519\n",
      "iter_dt 26.14ms; iter 3500: train loss 1.09218\n",
      "iter_dt 26.27ms; iter 3600: train loss 1.08262\n",
      "iter_dt 26.29ms; iter 3700: train loss 1.04998\n",
      "iter_dt 26.22ms; iter 3800: train loss 0.96587\n",
      "iter_dt 26.32ms; iter 3900: train loss 0.90314\n",
      "iter_dt 25.98ms; iter 4000: train loss 0.82335\n",
      "iter_dt 26.36ms; iter 4100: train loss 0.69932\n",
      "iter_dt 26.23ms; iter 4200: train loss 0.74599\n",
      "iter_dt 25.88ms; iter 4300: train loss 0.70651\n",
      "iter_dt 26.04ms; iter 4400: train loss 0.50071\n",
      "iter_dt 26.35ms; iter 4500: train loss 0.35870\n",
      "iter_dt 26.17ms; iter 4600: train loss 0.37789\n",
      "iter_dt 26.13ms; iter 4700: train loss 0.25585\n",
      "iter_dt 25.89ms; iter 4800: train loss 0.42015\n",
      "iter_dt 26.23ms; iter 4900: train loss 0.71732\n",
      "iter_dt 25.78ms; iter 5000: train loss 0.19880\n",
      "iter_dt 26.34ms; iter 5100: train loss 0.41816\n",
      "iter_dt 26.02ms; iter 5200: train loss 0.25798\n",
      "iter_dt 26.09ms; iter 5300: train loss 0.22828\n",
      "iter_dt 25.97ms; iter 5400: train loss 0.26207\n",
      "iter_dt 26.22ms; iter 5500: train loss 0.09384\n",
      "iter_dt 26.11ms; iter 5600: train loss 0.16044\n",
      "iter_dt 26.18ms; iter 5700: train loss 0.07474\n",
      "iter_dt 26.65ms; iter 5800: train loss 0.23181\n",
      "iter_dt 26.00ms; iter 5900: train loss 0.09678\n",
      "iter_dt 26.26ms; iter 6000: train loss 0.08139\n",
      "iter_dt 26.16ms; iter 6100: train loss 0.10946\n",
      "iter_dt 26.06ms; iter 6200: train loss 0.16294\n",
      "iter_dt 26.23ms; iter 6300: train loss 0.12450\n",
      "iter_dt 26.28ms; iter 6400: train loss 0.12880\n",
      "iter_dt 26.46ms; iter 6500: train loss 0.13412\n",
      "iter_dt 26.23ms; iter 6600: train loss 0.13093\n",
      "iter_dt 26.01ms; iter 6700: train loss 0.21312\n",
      "iter_dt 26.20ms; iter 6800: train loss 0.13407\n",
      "iter_dt 26.10ms; iter 6900: train loss 0.09644\n",
      "iter_dt 26.11ms; iter 7000: train loss 0.04985\n",
      "iter_dt 25.75ms; iter 7100: train loss 0.03703\n",
      "iter_dt 26.44ms; iter 7200: train loss 0.08986\n",
      "iter_dt 26.18ms; iter 7300: train loss 0.07617\n",
      "iter_dt 26.20ms; iter 7400: train loss 0.05586\n",
      "iter_dt 26.11ms; iter 7500: train loss 0.07918\n",
      "iter_dt 26.13ms; iter 7600: train loss 0.06671\n",
      "iter_dt 26.14ms; iter 7700: train loss 0.09085\n",
      "iter_dt 26.23ms; iter 7800: train loss 0.17285\n",
      "iter_dt 26.14ms; iter 7900: train loss 0.03578\n",
      "iter_dt 26.08ms; iter 8000: train loss 0.07566\n",
      "iter_dt 26.39ms; iter 8100: train loss 0.02740\n",
      "iter_dt 26.11ms; iter 8200: train loss 0.09810\n",
      "iter_dt 26.27ms; iter 8300: train loss 0.06629\n",
      "iter_dt 26.38ms; iter 8400: train loss 0.02864\n",
      "iter_dt 26.09ms; iter 8500: train loss 0.01045\n",
      "iter_dt 26.27ms; iter 8600: train loss 0.13307\n",
      "iter_dt 26.18ms; iter 8700: train loss 0.04952\n",
      "iter_dt 26.22ms; iter 8800: train loss 0.29540\n",
      "iter_dt 26.09ms; iter 8900: train loss 0.04160\n",
      "iter_dt 26.13ms; iter 9000: train loss 0.02460\n",
      "iter_dt 26.29ms; iter 9100: train loss 0.04554\n",
      "iter_dt 26.26ms; iter 9200: train loss 0.06193\n",
      "iter_dt 26.35ms; iter 9300: train loss 0.06420\n",
      "iter_dt 25.95ms; iter 9400: train loss 0.02774\n",
      "iter_dt 26.12ms; iter 9500: train loss 0.03721\n",
      "iter_dt 26.21ms; iter 9600: train loss 0.04093\n",
      "iter_dt 26.19ms; iter 9700: train loss 0.01814\n",
      "iter_dt 26.32ms; iter 9800: train loss 0.04593\n",
      "iter_dt 26.17ms; iter 9900: train loss 0.01396\n"
     ]
    }
   ],
   "source": [
    "def batch_end_callback(trainer):\n",
    "    if trainer.iter_num % 100 == 0:\n",
    "        print(f\"iter_dt {trainer.iter_dt * 1000:.2f}ms; iter {trainer.iter_num}: train loss {trainer.loss.item():.5f}\")\n",
    "trainer_gpt1.set_callback('on_batch_end', batch_end_callback)\n",
    "\n",
    "trainer_gpt1.run()"
   ]
  },
  {
   "cell_type": "code",
   "execution_count": 67,
   "id": "1f6e1296",
   "metadata": {},
   "outputs": [],
   "source": [
    "# now let's perform some evaluation\n",
    "model_gpt1.eval();"
   ]
  },
  {
   "cell_type": "code",
   "execution_count": 68,
   "id": "0762cf4a",
   "metadata": {},
   "outputs": [
    {
     "name": "stdout",
     "output_type": "stream",
     "text": [
      "train final score: 5000/5000 = 100.00% correct\n",
      "GPT claims that [2, 2, 2, 2, 2, 1] sorted is [2, 2, 2, 2, 2, 2] but gt is [1, 2, 2, 2, 2, 2]\n",
      "GPT claims that [2, 2, 2, 2, 2, 1] sorted is [2, 2, 2, 2, 2, 2] but gt is [1, 2, 2, 2, 2, 2]\n",
      "GPT claims that [2, 2, 2, 2, 2, 1] sorted is [2, 2, 2, 2, 2, 2] but gt is [1, 2, 2, 2, 2, 2]\n",
      "test final score: 4978/5000 = 99.56% correct\n"
     ]
    }
   ],
   "source": [
    "def eval_split(trainer, split, max_batches):\n",
    "    dataset = {'train':train_dataset, 'test':test_dataset}[split]\n",
    "    n = train_dataset.length # naugy direct access shrug\n",
    "    results = []\n",
    "    mistakes_printed_already = 0\n",
    "    loader = DataLoader(dataset, batch_size=100, num_workers=0, drop_last=False)\n",
    "    for b, (x, y) in enumerate(loader):\n",
    "        x = x.to(trainer.device)\n",
    "        y = y.to(trainer.device)\n",
    "        # isolate the input pattern alone\n",
    "        inp = x[:, :n]\n",
    "        sol = y[:, -n:]\n",
    "        # let the model sample the rest of the sequence\n",
    "        cat = model_gpt1.generate(inp, n, do_sample=False) # using greedy argmax, not sampling\n",
    "        sol_candidate = cat[:, n:] # isolate the filled in sequence\n",
    "        # compare the predicted sequence to the true sequence\n",
    "        correct = (sol == sol_candidate).all(1).cpu() # Software 1.0 vs. Software 2.0 fight RIGHT on this line haha\n",
    "        for i in range(x.size(0)):\n",
    "            results.append(int(correct[i]))\n",
    "            if not correct[i] and mistakes_printed_already < 3: # only print up to 5 mistakes to get a sense\n",
    "                mistakes_printed_already += 1\n",
    "                print(\"GPT claims that %s sorted is %s but gt is %s\" % (inp[i].tolist(), sol_candidate[i].tolist(), sol[i].tolist()))\n",
    "        if max_batches is not None and b+1 >= max_batches:\n",
    "            break\n",
    "    rt = torch.tensor(results, dtype=torch.float)\n",
    "    print(\"%s final score: %d/%d = %.2f%% correct\" % (split, rt.sum(), len(results), 100*rt.mean()))\n",
    "    return rt.sum()\n",
    "\n",
    "# run a lot of examples from both train and test through the model and verify the output correctness\n",
    "with torch.no_grad():\n",
    "    train_score = eval_split(trainer_gpt1, 'train', max_batches=50)\n",
    "    test_score  = eval_split(trainer_gpt1, 'test',  max_batches=50)"
   ]
  }
 ],
 "metadata": {
  "kernelspec": {
   "display_name": "jan-gptTransform-env",
   "language": "python",
   "name": "python3"
  },
  "language_info": {
   "codemirror_mode": {
    "name": "ipython",
    "version": 3
   },
   "file_extension": ".py",
   "mimetype": "text/x-python",
   "name": "python",
   "nbconvert_exporter": "python",
   "pygments_lexer": "ipython3",
   "version": "3.11.13"
  }
 },
 "nbformat": 4,
 "nbformat_minor": 5
}
